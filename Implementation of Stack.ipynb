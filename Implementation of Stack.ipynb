{
 "cells": [
  {
   "cell_type": "markdown",
   "metadata": {},
   "source": [
    "# LAB | Implementation of Stacks\n"
   ]
  },
  {
   "cell_type": "markdown",
   "metadata": {},
   "source": [
    "\n",
    "## Overview\n"
   ]
  },
  {
   "cell_type": "markdown",
   "metadata": {},
   "source": [
    "\n",
    "This lesson will cover the implementation of stacks in Python, focusing on two primary methods: array implementation and linked list implementation. Understanding these implementations will provide a solid foundation for working with stacks in various applications.\n"
   ]
  },
  {
   "cell_type": "markdown",
   "metadata": {},
   "source": [
    "\n",
    "## Instructions\n"
   ]
  },
  {
   "cell_type": "markdown",
   "metadata": {},
   "source": [
    "\n",
    "- Complete each section by understanding the concepts and implementing the provided code.\n",
    "- Test your code to ensure it behaves as expected.\n",
    "\n",
    "\n"
   ]
  },
  {
   "cell_type": "markdown",
   "metadata": {},
   "source": [
    "\n",
    "## 1. Array Implementation of Stack\n"
   ]
  },
  {
   "cell_type": "markdown",
   "metadata": {},
   "source": [
    "\n",
    "In this section, we will discuss how to implement a stack using a simple array. This method is straightforward and allows for easy access to elements based on their index.\n"
   ]
  },
  {
   "cell_type": "markdown",
   "metadata": {},
   "source": [
    "\n",
    "### Key Concepts\n",
    "\n",
    "- **Capacity**: The fixed size of the array.\n",
    "- **Top**: The index of the last element added to the stack.\n"
   ]
  },
  {
   "cell_type": "markdown",
   "metadata": {},
   "source": [
    "\n",
    "### Operations\n",
    "\n",
    "- **push()**: Adds a new element to the top of the stack. Checks if there is space before insertion.\n",
    "- **pop()**: Removes the top element from the stack and returns it.\n",
    "- **peek()**: Returns the top element of the stack without removing it.\n",
    "- **isEmpty()**: Checks if the stack is empty.\n",
    "- **isFull()**: Checks if the stack has reached its maximum capacity.\n"
   ]
  },
  {
   "cell_type": "markdown",
   "metadata": {},
   "source": [
    "### Explanation\n",
    "This cell demonstrates the implementation. Take a moment to check out the code and run the cell to see how it works."
   ]
  },
  {
   "cell_type": "code",
   "execution_count": 62,
   "metadata": {},
   "outputs": [
    {
     "name": "stdout",
     "output_type": "stream",
     "text": [
      "20\n",
      "10\n"
     ]
    }
   ],
   "source": [
    "class ArrayStack:\n",
    "    def __init__(self, capacity):\n",
    "        self.capacity = capacity\n",
    "        self.stack = [None] * capacity\n",
    "        self.top = -1\n",
    "\n",
    "    def push(self, item):\n",
    "        if self.isFull():\n",
    "            print(\"Stack is full\")\n",
    "            return\n",
    "\n",
    "        self.top += 1\n",
    "        self.stack[self.top] = item\n",
    "\n",
    "    def pop(self):\n",
    "        if self.isEmpty():\n",
    "            print(\"Stack is empty\")\n",
    "            return None\n",
    "\n",
    "        item = self.stack[self.top]\n",
    "        self.stack[self.top] = None  # Clear the removed element\n",
    "        self.top -= 1\n",
    "        return item\n",
    "\n",
    "    def peek(self):\n",
    "        if self.isEmpty():\n",
    "            return None\n",
    "        return self.stack[self.top]\n",
    "\n",
    "    def isEmpty(self):\n",
    "        return self.top == -1\n",
    "\n",
    "    def isFull(self):\n",
    "        return self.top == self.capacity - 1\n",
    "\n",
    "# Example usage:\n",
    "array_stack = ArrayStack(5)\n",
    "array_stack.push(10)\n",
    "array_stack.push(20)\n",
    "print(array_stack.pop())  # Output: 20\n",
    "print(array_stack.peek())  # Output: 10"
   ]
  },
  {
   "cell_type": "markdown",
   "metadata": {},
   "source": [
    "### Try It Yourself!\n",
    "Modify the implementation below or try writing your own version based on what you've learned above."
   ]
  },
  {
   "cell_type": "code",
   "execution_count": null,
   "metadata": {},
   "outputs": [],
   "source": []
  },
  {
   "cell_type": "markdown",
   "metadata": {},
   "source": [
    "\n",
    "## 2. Linked List Implementation of Stack\n"
   ]
  },
  {
   "cell_type": "markdown",
   "metadata": {},
   "source": [
    "\n",
    "In this section, we will implement a stack using a linked list. This method allows for dynamic sizing and avoids wasted space.\n"
   ]
  },
  {
   "cell_type": "markdown",
   "metadata": {},
   "source": [
    "\n",
    "### Key Concepts\n",
    "\n",
    "- **Top**: Points to the last item added to the stack.\n"
   ]
  },
  {
   "cell_type": "markdown",
   "metadata": {},
   "source": [
    "\n",
    "### Operations\n",
    "\n",
    "- **push()**: Adds a new node on top of the stack.\n",
    "- **pop()**: Removes the top node from the stack.\n",
    "- **peek()**: Retrieves the top node's value without removing it.\n"
   ]
  },
  {
   "cell_type": "markdown",
   "metadata": {},
   "source": [
    "\n",
    "### Implementation Steps\n",
    "\n",
    "1. Create a class `Node` with data members `data` and `next`.\n",
    "2. Create a class `Stack` with a data member `top`.\n"
   ]
  },
  {
   "cell_type": "markdown",
   "metadata": {},
   "source": [
    "### Explanation\n",
    "This cell demonstrates the implementation. Take a moment to check out the code and run the cell to see how it works."
   ]
  },
  {
   "cell_type": "code",
   "execution_count": 63,
   "metadata": {},
   "outputs": [
    {
     "name": "stdout",
     "output_type": "stream",
     "text": [
      "20\n",
      "10\n"
     ]
    }
   ],
   "source": [
    "class Node:\n",
    "    def __init__(self, data):\n",
    "        self.data = data\n",
    "        self.next = None\n",
    "\n",
    "class LinkedListStack:\n",
    "    def __init__(self):\n",
    "        self.top = None\n",
    "\n",
    "    def push(self, data):\n",
    "        new_node = Node(data)\n",
    "        new_node.next = self.top\n",
    "        self.top = new_node\n",
    "\n",
    "    def pop(self):\n",
    "        if self.isEmpty():\n",
    "            print(\"Stack is empty\")\n",
    "            return None\n",
    "\n",
    "        popped_data = self.top.data\n",
    "        self.top = self.top.next\n",
    "        return popped_data\n",
    "\n",
    "    def peek(self):\n",
    "        if self.isEmpty():\n",
    "            return None\n",
    "        return self.top.data\n",
    "\n",
    "    def isEmpty(self):\n",
    "        return self.top is None\n",
    "\n",
    "# Example usage:\n",
    "linked_list_stack = LinkedListStack()\n",
    "linked_list_stack.push(10)\n",
    "linked_list_stack.push(20)\n",
    "print(linked_list_stack.pop())  # Output: 20\n",
    "print(linked_list_stack.peek())  # Output: 10"
   ]
  },
  {
   "cell_type": "markdown",
   "metadata": {},
   "source": [
    "### Try It Yourself!\n",
    "Modify the implementation below or try writing your own version based on what you've learned above."
   ]
  },
  {
   "cell_type": "code",
   "execution_count": null,
   "metadata": {},
   "outputs": [],
   "source": []
  },
  {
   "cell_type": "markdown",
   "metadata": {},
   "source": [
    "\n",
    "## Basic Operations on Stack\n"
   ]
  },
  {
   "cell_type": "markdown",
   "metadata": {},
   "source": [
    "\n",
    "Here are some fundamental operations associated with stacks:\n",
    "\n",
    "- **push()**: Adds an element to the top of the stack.\n",
    "- **pop()**: Removes an element from the top of the stack.\n",
    "- **peek()**: Retrieves the value at the top of the stack without removing it.\n",
    "- **isEmpty()**: Checks whether the stack is currently empty.\n",
    "- **isFull()**: Determines if the stack has reached its maximum capacity (applicable for array implementation).\n"
   ]
  },
  {
   "cell_type": "markdown",
   "metadata": {},
   "source": [
    "\n",
    "### Operation 1: push()\n",
    "This operation inserts an element at the top of the stack.\n",
    "\n",
    "To perform a push operation, follow these steps:\n",
    "\n",
    "1. Check if the stack is full (for array implementation).\n",
    "2. If full, return an overflow error and exit.\n",
    "3. If not full, increment the top pointer and place the new data element at that position.\n"
   ]
  },
  {
   "cell_type": "markdown",
   "metadata": {},
   "source": [
    "### Explanation\n",
    "This cell demonstrates the implementation. Take a moment to check out the code and run the cell to see how it works."
   ]
  },
  {
   "cell_type": "code",
   "execution_count": 64,
   "metadata": {},
   "outputs": [],
   "source": [
    "def push(self, item):\n",
    "    if self.isFull():\n",
    "        print(\"Stack is full\")\n",
    "        return\n",
    "\n",
    "    self.top += 1\n",
    "    self.stack[self.top] = item"
   ]
  },
  {
   "cell_type": "code",
   "execution_count": 65,
   "metadata": {},
   "outputs": [],
   "source": [
    "# Sample Execution\n",
    "\n",
    "array_stack = ArrayStack(5)\n",
    "array_stack.push(10)  # Output: 10 pushed to stack\n",
    "array_stack.push(20)  # Output: 20 pushed to stack\n"
   ]
  },
  {
   "cell_type": "markdown",
   "metadata": {},
   "source": [
    "### Try It Yourself!\n",
    "Modify the implementation below or try writing your own version based on what you've learned above."
   ]
  },
  {
   "cell_type": "code",
   "execution_count": null,
   "metadata": {},
   "outputs": [],
   "source": [
    "\n",
    "class ArrayStack:\n",
    "    def __init__(self, capacity):\n",
    "        self.capacity = capacity\n",
    "        self.stack = [None] * capacity\n",
    "        self.top = -1\n",
    "\n",
    "    def push(self, item):\n",
    "        if self.isFull():\n",
    "            print(\"Stack is full\")\n",
    "            return\n",
    "\n",
    "        self.top += 1\n",
    "        self.stack[self.top] = item\n",
    "    \n",
    "    def isFull(self):\n",
    "        return self.top == self.capacity -1"
   ]
  },
  {
   "cell_type": "code",
   "execution_count": 66,
   "metadata": {},
   "outputs": [],
   "source": [
    "arr = ArrayStack(10)\n",
    "arr.push(1)\n"
   ]
  },
  {
   "cell_type": "markdown",
   "metadata": {},
   "source": [
    "\n",
    "### Operation 2: pop()\n",
    "This operation removes and returns the element located at the top of the stack.\n",
    "\n",
    "To perform a pop operation, follow these steps:\n",
    "\n",
    "1. Check if the stack is empty.\n",
    "2. If empty, return an underflow error and exit.\n",
    "3. If not empty, access and store the data at the top pointer.\n",
    "4. Decrement the top pointer and return success.\n"
   ]
  },
  {
   "cell_type": "markdown",
   "metadata": {},
   "source": [
    "### Explanation\n",
    "This cell demonstrates the implementation. Take a moment to check out the code and run the cell to see how it works."
   ]
  },
  {
   "cell_type": "code",
   "execution_count": 67,
   "metadata": {},
   "outputs": [],
   "source": [
    "def pop(self):\n",
    "    if self.isEmpty():\n",
    "        print(\"Stack is empty\")\n",
    "        return None\n",
    "\n",
    "    item = self.stack[self.top]\n",
    "    self.top -= 1\n",
    "    return item"
   ]
  },
  {
   "cell_type": "code",
   "execution_count": null,
   "metadata": {},
   "outputs": [
    {
     "name": "stdout",
     "output_type": "stream",
     "text": [
      "3\n"
     ]
    }
   ],
   "source": [
    "class ArrayStack:\n",
    "    def __init__(self, capacity):\n",
    "        self.capacity = capacity\n",
    "        self.stack = [None] * capacity\n",
    "        self.top = -1\n",
    "\n",
    "    def push(self, item):\n",
    "        if self.isFull():\n",
    "            print(\"Stack is full\")\n",
    "            return\n",
    "\n",
    "        self.top += 1\n",
    "        self.stack[self.top] = item\n",
    "    \n",
    "    def isFull(self):\n",
    "        return self.top == self.capacity -1\n",
    "    \n",
    "    def isEmpty(self):\n",
    "        return self.top == -1\n",
    "\n",
    "    def pop(self):\n",
    "        if self.isEmpty():\n",
    "            print(\"Stack is empty\")\n",
    "            return None\n",
    "\n",
    "        item = self.stack[self.top]\n",
    "        self.top -= 1\n",
    "        return item\n",
    "\n",
    "arr.push(1)\n",
    "arr.push(2)\n",
    "arr.push(3)\n",
    "\n",
    "print(arr.pop())\n"
   ]
  },
  {
   "cell_type": "code",
   "execution_count": 69,
   "metadata": {},
   "outputs": [
    {
     "name": "stdout",
     "output_type": "stream",
     "text": [
      "20\n",
      "10\n"
     ]
    }
   ],
   "source": [
    "# Sample Execution\n",
    "\n",
    "print(array_stack.pop())  # Output: 20 popped from stack\n",
    "print(array_stack.pop())  # Output: 10 popped from stack\n"
   ]
  },
  {
   "cell_type": "markdown",
   "metadata": {},
   "source": [
    "### Try It Yourself!\n",
    "Modify the implementation below or try writing your own version based on what you've learned above."
   ]
  },
  {
   "cell_type": "code",
   "execution_count": null,
   "metadata": {},
   "outputs": [],
   "source": []
  },
  {
   "cell_type": "markdown",
   "metadata": {},
   "source": [
    "\n",
    "### Operation 3: peek()\n",
    "This operation retrieves the element at the top of the stack without removing it.\n",
    "\n",
    "To perform this operation:\n",
    "\n",
    "1. If empty, return None or an appropriate message.\n",
    "2. Otherwise, return the value at the top pointer.\n"
   ]
  },
  {
   "cell_type": "markdown",
   "metadata": {},
   "source": [
    "### Explanation\n",
    "This cell demonstrates the implementation. Take a moment to check out the code and run the cell to see how it works."
   ]
  },
  {
   "cell_type": "code",
   "execution_count": 70,
   "metadata": {},
   "outputs": [],
   "source": [
    "def peek(self):\n",
    "    if self.isEmpty():\n",
    "        return None\n",
    "    return self.stack[self.top]"
   ]
  },
  {
   "cell_type": "code",
   "execution_count": 71,
   "metadata": {},
   "outputs": [
    {
     "name": "stdout",
     "output_type": "stream",
     "text": [
      "30\n"
     ]
    }
   ],
   "source": [
    "# Sample Execution\n",
    "\n",
    "array_stack.push(30)  # Output: 30 pushed to stack\n",
    "print(array_stack.peek())  # Output: 30"
   ]
  },
  {
   "cell_type": "code",
   "execution_count": 77,
   "metadata": {},
   "outputs": [
    {
     "name": "stdout",
     "output_type": "stream",
     "text": [
      "3\n"
     ]
    }
   ],
   "source": [
    "class ArrayStack:\n",
    "    def __init__(self, capacity):\n",
    "        self.capacity = capacity\n",
    "        self.stack = [None] * capacity\n",
    "        self.top = -1\n",
    "\n",
    "    def push(self, item):\n",
    "        if self.isFull():\n",
    "            print(\"Stack is full\")\n",
    "            return\n",
    "\n",
    "        self.top += 1\n",
    "        self.stack[self.top] = item\n",
    "    \n",
    "    def isFull(self):\n",
    "        return self.top == self.capacity -1\n",
    "    \n",
    "    def isEmpty(self):\n",
    "        return self.top == -1\n",
    "\n",
    "    def pop(self):\n",
    "        if self.isEmpty():\n",
    "            print(\"Stack is empty\")\n",
    "            return None\n",
    "\n",
    "        item = self.stack[self.top]\n",
    "        self.top -= 1\n",
    "        return item\n",
    "    \n",
    "    def peek(self):\n",
    "        if self.isEmpty():\n",
    "            print(\"Stack is Empty\")\n",
    "        return self.stack[self.top]\n",
    "    \n",
    "\n",
    "arr.push(1)\n",
    "arr.push(2)\n",
    "arr.push(3)\n",
    "\n",
    "print(arr.peek())"
   ]
  },
  {
   "cell_type": "markdown",
   "metadata": {},
   "source": [
    "### Try It Yourself!\n",
    "Modify the implementation below or try writing your own version based on what you've learned above."
   ]
  },
  {
   "cell_type": "code",
   "execution_count": null,
   "metadata": {},
   "outputs": [],
   "source": []
  },
  {
   "cell_type": "markdown",
   "metadata": {},
   "source": [
    "\n",
    "### Operation 4: isEmpty()\n",
    "This operation checks whether the stack is empty and returns a boolean value.\n",
    "\n",
    "To perform this check:\n",
    "\n",
    "1. Verify if `top` equals -1; if so, return true (indicating that the stack is empty).\n",
    "2. Otherwise, return false (indicating that there are elements in the stack).\n"
   ]
  },
  {
   "cell_type": "markdown",
   "metadata": {},
   "source": [
    "### Explanation\n",
    "This cell demonstrates the implementation. Take a moment to check out the code and run the cell to see how it works."
   ]
  },
  {
   "cell_type": "code",
   "execution_count": 72,
   "metadata": {},
   "outputs": [],
   "source": [
    "def isEmpty(self):\n",
    "    return self.top == -1"
   ]
  },
  {
   "cell_type": "code",
   "execution_count": 73,
   "metadata": {},
   "outputs": [
    {
     "name": "stdout",
     "output_type": "stream",
     "text": [
      "False\n"
     ]
    }
   ],
   "source": [
    "# Sample Execution\n",
    "\n",
    "print(array_stack.isEmpty())  # Output: False (since there are elements in the stack)"
   ]
  },
  {
   "cell_type": "code",
   "execution_count": 81,
   "metadata": {},
   "outputs": [
    {
     "name": "stdout",
     "output_type": "stream",
     "text": [
      "False\n"
     ]
    }
   ],
   "source": [
    "def isEmpty(self):\n",
    "    return self.top == -1\n",
    "\n",
    "print(arr.isEmpty())\n"
   ]
  },
  {
   "cell_type": "markdown",
   "metadata": {},
   "source": [
    "### Try It Yourself!\n",
    "Modify the implementation below or try writing your own version based on what you've learned above."
   ]
  },
  {
   "cell_type": "code",
   "execution_count": null,
   "metadata": {},
   "outputs": [],
   "source": []
  },
  {
   "cell_type": "markdown",
   "metadata": {},
   "source": [
    "\n",
    "### Operation 5: isFull()\n",
    "This operation checks whether the stack has reached its maximum capacity and returns a boolean value.\n",
    "\n",
    "To perform this check:\n",
    "\n",
    "1. Determine if `top` equals `capacity - 1`; if so, return true (indicating that the stack is full).\n",
    "2. Otherwise, return false (indicating that there is still space available).\n"
   ]
  },
  {
   "cell_type": "markdown",
   "metadata": {},
   "source": [
    "### Explanation\n",
    "This cell demonstrates the implementation. Take a moment to check out the code and run the cell to see how it works."
   ]
  },
  {
   "cell_type": "code",
   "execution_count": 74,
   "metadata": {},
   "outputs": [],
   "source": [
    "def isFull(self):\n",
    "    return self.top == (self.capacity - 1)"
   ]
  },
  {
   "cell_type": "code",
   "execution_count": 75,
   "metadata": {},
   "outputs": [
    {
     "name": "stdout",
     "output_type": "stream",
     "text": [
      "False\n"
     ]
    }
   ],
   "source": [
    "# Sample Execution\n",
    "\n",
    "print(array_stack.isFull())  # Output: False (if capacity has not been reached)"
   ]
  },
  {
   "cell_type": "code",
   "execution_count": 83,
   "metadata": {},
   "outputs": [
    {
     "name": "stdout",
     "output_type": "stream",
     "text": [
      "False\n"
     ]
    }
   ],
   "source": [
    "def isFull(self):\n",
    "    return self.top == self.capacity -1 \n",
    "\n",
    "print(arr.isFull())"
   ]
  },
  {
   "cell_type": "markdown",
   "metadata": {},
   "source": [
    "### Try It Yourself!\n",
    "Modify the implementation below or try writing your own version based on what you've learned above."
   ]
  },
  {
   "cell_type": "code",
   "execution_count": null,
   "metadata": {},
   "outputs": [],
   "source": []
  },
  {
   "cell_type": "markdown",
   "metadata": {},
   "source": [
    "\n",
    "## Exercise Completion\n"
   ]
  },
  {
   "cell_type": "markdown",
   "metadata": {},
   "source": [
    "\n",
    "Once you have completed all sections:\n",
    "\n",
    "- Review your implementations.\n",
    "- Ensure your code is well-documented with comments explaining your logic.\n",
    "- Save your notebook for submission or further review.\n"
   ]
  },
  {
   "cell_type": "markdown",
   "metadata": {},
   "source": [
    "\n",
    "Happy coding! Enjoy practicing Stack implementations in Python!"
   ]
  }
 ],
 "metadata": {
  "kernelspec": {
   "display_name": "Python 3",
   "language": "python",
   "name": "python3"
  },
  "language_info": {
   "codemirror_mode": {
    "name": "ipython",
    "version": 3
   },
   "file_extension": ".py",
   "mimetype": "text/x-python",
   "name": "python",
   "nbconvert_exporter": "python",
   "pygments_lexer": "ipython3",
   "version": "3.13.1"
  }
 },
 "nbformat": 4,
 "nbformat_minor": 2
}
