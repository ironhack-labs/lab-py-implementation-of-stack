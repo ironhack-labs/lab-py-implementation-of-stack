{
 "cells": [
  {
   "cell_type": "markdown",
   "metadata": {},
   "source": [
    "# LAB | Implementation of Stacks\n"
   ]
  },
  {
   "cell_type": "markdown",
   "metadata": {},
   "source": [
    "\n",
    "## Overview\n"
   ]
  },
  {
   "cell_type": "markdown",
   "metadata": {},
   "source": [
    "\n",
    "This lesson will cover the implementation of stacks in Python, focusing on two primary methods: array implementation and linked list implementation. Understanding these implementations will provide a solid foundation for working with stacks in various applications.\n"
   ]
  },
  {
   "cell_type": "markdown",
   "metadata": {},
   "source": [
    "\n",
    "## Instructions\n"
   ]
  },
  {
   "cell_type": "markdown",
   "metadata": {},
   "source": [
    "\n",
    "- Complete each section by understanding the concepts and implementing the provided code.\n",
    "- Test your code to ensure it behaves as expected.\n",
    "\n",
    "\n"
   ]
  },
  {
   "cell_type": "markdown",
   "metadata": {},
   "source": [
    "\n",
    "## 1. Array Implementation of Stack\n"
   ]
  },
  {
   "cell_type": "markdown",
   "metadata": {},
   "source": [
    "\n",
    "In this section, we will discuss how to implement a stack using a simple array. This method is straightforward and allows for easy access to elements based on their index.\n"
   ]
  },
  {
   "cell_type": "markdown",
   "metadata": {},
   "source": [
    "\n",
    "### Key Concepts\n",
    "\n",
    "- **Capacity**: The fixed size of the array.\n",
    "- **Top**: The index of the last element added to the stack.\n"
   ]
  },
  {
   "cell_type": "markdown",
   "metadata": {},
   "source": [
    "\n",
    "### Operations\n",
    "\n",
    "- **push()**: Adds a new element to the top of the stack. Checks if there is space before insertion.\n",
    "- **pop()**: Removes the top element from the stack and returns it.\n",
    "- **peek()**: Returns the top element of the stack without removing it.\n",
    "- **isEmpty()**: Checks if the stack is empty.\n",
    "- **isFull()**: Checks if the stack has reached its maximum capacity.\n"
   ]
  },
  {
   "cell_type": "markdown",
   "metadata": {},
   "source": [
    "### Explanation\n",
    "This cell demonstrates the implementation. Take a moment to check out the code and run the cell to see how it works."
   ]
  },
  {
   "cell_type": "code",
   "execution_count": 3,
   "metadata": {},
   "outputs": [
    {
     "name": "stdout",
     "output_type": "stream",
     "text": [
      "20\n",
      "10\n"
     ]
    }
   ],
   "source": [
    "class ArrayStack:\n",
    "    def __init__(self, capacity):\n",
    "        self.capacity = capacity\n",
    "        self.stack = [None] * capacity\n",
    "        self.top = -1\n",
    "\n",
    "    def push(self, item):\n",
    "        if self.isFull():\n",
    "            print(\"Stack is full\")\n",
    "            return\n",
    "\n",
    "        self.top += 1\n",
    "        self.stack[self.top] = item\n",
    "\n",
    "    def pop(self):\n",
    "        if self.isEmpty():\n",
    "            print(\"Stack is empty\")\n",
    "            return None\n",
    "\n",
    "        item = self.stack[self.top]\n",
    "        self.stack[self.top] = None  # Clear the removed element\n",
    "        self.top -= 1\n",
    "        return item\n",
    "\n",
    "    def peek(self):\n",
    "        if self.isEmpty():\n",
    "            return None\n",
    "        return self.stack[self.top]\n",
    "\n",
    "    def isEmpty(self):\n",
    "        return self.top == -1\n",
    "\n",
    "    def isFull(self):\n",
    "        return self.top == self.capacity - 1\n",
    "\n",
    "# Example usage:\n",
    "array_stack = ArrayStack(5)\n",
    "array_stack.push(10)\n",
    "array_stack.push(20)\n",
    "print(array_stack.pop())  # Output: 20\n",
    "print(array_stack.peek())  # Output: 10"
   ]
  },
  {
   "cell_type": "markdown",
   "metadata": {},
   "source": [
    "### Try It Yourself!\n",
    "Modify the implementation below or try writing your own version based on what you've learned above."
   ]
  },
  {
   "cell_type": "code",
   "execution_count": 4,
   "metadata": {},
   "outputs": [
    {
     "name": "stdout",
     "output_type": "stream",
     "text": [
      "Stack content: [1, 2, 3]\n",
      "Stack size: 3\n",
      "Stack has been reversed: [3, 2, 1]\n",
      "Stack content: [3, 2, 1]\n"
     ]
    }
   ],
   "source": [
    "def display(self): #Method to display the stack contents\n",
    "    if self.isEmpty():\n",
    "        print(\"Stack is empty\")\n",
    "    else:\n",
    "         print(\"Stack content:\",[self.stack[i] for i in range (self.top +1)])\n",
    "\n",
    "def reverse(self):  #Method to reverse the stack\n",
    "    if self.isEmpty():\n",
    "        print(\"Stack is empty. Cannot reverse.\")\n",
    "        return\n",
    "    self.stack[:self.top+1] = self.stack[:self.top+1][::-1] #Reverse only the filled part of the stack\n",
    "    print(\"Stack has been reversed:\", self.stack[:self.top +1])\n",
    "\n",
    "def size(self):\n",
    "    return self.top +1\n",
    "\n",
    "##Linking the new methods ot the LinkedListStack class\n",
    "ArrayStack.display=display\n",
    "ArrayStack.reverse=reverse\n",
    "ArrayStack.size=size\n",
    "\n",
    "#Example usage:\n",
    "array_stack = ArrayStack(5)\n",
    "array_stack.push(1)\n",
    "array_stack.push(2)\n",
    "array_stack.push(3)\n",
    "\n",
    "array_stack.display()  \n",
    "print(\"Stack size:\", array_stack.size())  \n",
    "array_stack.reverse()  \n",
    "array_stack.display()  "
   ]
  },
  {
   "cell_type": "markdown",
   "metadata": {},
   "source": [
    "\n",
    "## 2. Linked List Implementation of Stack\n"
   ]
  },
  {
   "cell_type": "markdown",
   "metadata": {},
   "source": [
    "\n",
    "In this section, we will implement a stack using a linked list. This method allows for dynamic sizing and avoids wasted space.\n"
   ]
  },
  {
   "cell_type": "markdown",
   "metadata": {},
   "source": [
    "\n",
    "### Key Concepts\n",
    "\n",
    "- **Top**: Points to the last item added to the stack.\n"
   ]
  },
  {
   "cell_type": "markdown",
   "metadata": {},
   "source": [
    "\n",
    "### Operations\n",
    "\n",
    "- **push()**: Adds a new node on top of the stack.\n",
    "- **pop()**: Removes the top node from the stack.\n",
    "- **peek()**: Retrieves the top node's value without removing it.\n"
   ]
  },
  {
   "cell_type": "markdown",
   "metadata": {},
   "source": [
    "\n",
    "### Implementation Steps\n",
    "\n",
    "1. Create a class `Node` with data members `data` and `next`.\n",
    "2. Create a class `Stack` with a data member `top`.\n"
   ]
  },
  {
   "cell_type": "markdown",
   "metadata": {},
   "source": [
    "### Explanation\n",
    "This cell demonstrates the implementation. Take a moment to check out the code and run the cell to see how it works."
   ]
  },
  {
   "cell_type": "code",
   "execution_count": 5,
   "metadata": {},
   "outputs": [
    {
     "name": "stdout",
     "output_type": "stream",
     "text": [
      "20\n",
      "10\n"
     ]
    }
   ],
   "source": [
    "class Node:\n",
    "    def __init__(self, data):\n",
    "        self.data = data\n",
    "        self.next = None\n",
    "\n",
    "class LinkedListStack:\n",
    "    def __init__(self):\n",
    "        self.top = None\n",
    "\n",
    "    def push(self, data):\n",
    "        new_node = Node(data)\n",
    "        new_node.next = self.top\n",
    "        self.top = new_node\n",
    "\n",
    "    def pop(self):\n",
    "        if self.isEmpty():\n",
    "            print(\"Stack is empty\")\n",
    "            return None\n",
    "\n",
    "        popped_data = self.top.data\n",
    "        self.top = self.top.next\n",
    "        return popped_data\n",
    "\n",
    "    def peek(self):\n",
    "        if self.isEmpty():\n",
    "            return None\n",
    "        return self.top.data\n",
    "\n",
    "    def isEmpty(self):\n",
    "        return self.top is None\n",
    "\n",
    "# Example usage:\n",
    "linked_list_stack = LinkedListStack()\n",
    "linked_list_stack.push(10)\n",
    "linked_list_stack.push(20)\n",
    "print(linked_list_stack.pop())  # Output: 20\n",
    "print(linked_list_stack.peek())  # Output: 10"
   ]
  },
  {
   "cell_type": "markdown",
   "metadata": {},
   "source": [
    "### Try It Yourself!\n",
    "Modify the implementation below or try writing your own version based on what you've learned above."
   ]
  },
  {
   "cell_type": "code",
   "execution_count": 6,
   "metadata": {},
   "outputs": [
    {
     "name": "stdout",
     "output_type": "stream",
     "text": [
      "Stack contents: [3, 2, 1]\n",
      "Popped all elements: [3, 2, 1]\n",
      "Stack is empty.\n"
     ]
    }
   ],
   "source": [
    "def display(self):\n",
    "    if self.isEmpty():\n",
    "        print(\"Stack is empty.\")\n",
    "    else:\n",
    "        current = self.top\n",
    "        elements = []\n",
    "        while current:\n",
    "            elements.append(current.data)\n",
    "            current = current.next\n",
    "        print(\"Stack contents:\", elements)\n",
    "\n",
    "def popAll(self): #Method to pop all elements fromt the stack\n",
    "    if self.isEmpty():\n",
    "        print(\"Stack is already empty.\")\n",
    "        return \n",
    "    popped_elements= []\n",
    "    while not self.isEmpty():\n",
    "        popped_elements.append(self.pop())\n",
    "    print(\"Popped all elements:\", popped_elements)\n",
    "\n",
    "\n",
    "#Linking the new methods ot the LinkedListStack class\n",
    "LinkedListStack.display=display\n",
    "LinkedListStack.popAll=popAll \n",
    "\n",
    "# Example usage:\n",
    "linked_list_stack = LinkedListStack()\n",
    "linked_list_stack.push(1)\n",
    "linked_list_stack.push(2)\n",
    "linked_list_stack.push(3)\n",
    "\n",
    "linked_list_stack.display()  #  Show stack contents\n",
    "linked_list_stack.popAll()   # Pop all elements from the stack\n",
    "linked_list_stack.display()  #  Show the empty stack\n"
   ]
  },
  {
   "cell_type": "markdown",
   "metadata": {},
   "source": [
    "\n",
    "## Basic Operations on Stack\n"
   ]
  },
  {
   "cell_type": "markdown",
   "metadata": {},
   "source": [
    "\n",
    "Here are some fundamental operations associated with stacks:\n",
    "\n",
    "- **push()**: Adds an element to the top of the stack.\n",
    "- **pop()**: Removes an element from the top of the stack.\n",
    "- **peek()**: Retrieves the value at the top of the stack without removing it.\n",
    "- **isEmpty()**: Checks whether the stack is currently empty.\n",
    "- **isFull()**: Determines if the stack has reached its maximum capacity (applicable for array implementation).\n"
   ]
  },
  {
   "cell_type": "markdown",
   "metadata": {},
   "source": [
    "\n",
    "### Operation 1: push()\n",
    "This operation inserts an element at the top of the stack.\n",
    "\n",
    "To perform a push operation, follow these steps:\n",
    "\n",
    "1. Check if the stack is full (for array implementation).\n",
    "2. If full, return an overflow error and exit.\n",
    "3. If not full, increment the top pointer and place the new data element at that position.\n"
   ]
  },
  {
   "cell_type": "markdown",
   "metadata": {},
   "source": [
    "### Explanation\n",
    "This cell demonstrates the implementation. Take a moment to check out the code and run the cell to see how it works."
   ]
  },
  {
   "cell_type": "code",
   "execution_count": 31,
   "metadata": {},
   "outputs": [],
   "source": [
    "def push(self, item):\n",
    "    if self.isFull():\n",
    "        print(\"Stack is full\")\n",
    "        return\n",
    "\n",
    "    self.top += 1\n",
    "    self.stack[self.top] = item"
   ]
  },
  {
   "cell_type": "code",
   "execution_count": 30,
   "metadata": {},
   "outputs": [
    {
     "name": "stdout",
     "output_type": "stream",
     "text": [
      "10 pushed to stack\n",
      "20 pushed to stack\n"
     ]
    }
   ],
   "source": [
    "# Sample Execution\n",
    "\n",
    "array_stack = ArrayStack(5)\n",
    "array_stack.push(10)  # Output: 10 pushed to stack\n",
    "array_stack.push(20)  # Output: 20 pushed to stack\n"
   ]
  },
  {
   "cell_type": "markdown",
   "metadata": {},
   "source": [
    "### Try It Yourself!\n",
    "Modify the implementation below or try writing your own version based on what you've learned above."
   ]
  },
  {
   "cell_type": "code",
   "execution_count": 24,
   "metadata": {},
   "outputs": [
    {
     "name": "stdout",
     "output_type": "stream",
     "text": [
      "10 pushed to stack\n",
      "20 pushed to stack\n"
     ]
    }
   ],
   "source": [
    "class ArrayStack():\n",
    "     def __init__(self,capacity):\n",
    "         self.capacity=capacity\n",
    "         self.stack=[None] *capacity\n",
    "         self.top=-1\n",
    "\n",
    "     def push(self,item):\n",
    "         if self.isFull():\n",
    "              print(\"Stack is full\")\n",
    "              return\n",
    "         self.top +=1\n",
    "         self.stack[self.top]= item\n",
    "         print(f\"{item} pushed to stack\")\n",
    "     \n",
    "     def isFull(self):\n",
    "         return self.top == self.capacity -1\n",
    "     \n",
    "     def isEmpty(self):\n",
    "         return self.top ==-1\n",
    "     def pop(self):\n",
    "       if self.isEmpty():\n",
    "         print(\"Stack is empty\")\n",
    "         return None\n",
    "\n",
    "       item = self.stack[self.top]\n",
    "       self.top -= 1\n",
    "       return item\n",
    "\n",
    "     \n",
    "\n",
    "array_stack = ArrayStack(10)\n",
    "array_stack.push(10)  # Output: 10 pushed to stack\n",
    "array_stack.push(20)  # Output: 20 pushed to stack"
   ]
  },
  {
   "cell_type": "markdown",
   "metadata": {},
   "source": [
    "\n",
    "### Operation 2: pop()\n",
    "This operation removes and returns the element located at the top of the stack.\n",
    "\n",
    "To perform a pop operation, follow these steps:\n",
    "\n",
    "1. Check if the stack is empty.\n",
    "2. If empty, return an underflow error and exit.\n",
    "3. If not empty, access and store the data at the top pointer.\n",
    "4. Decrement the top pointer and return success.\n"
   ]
  },
  {
   "cell_type": "markdown",
   "metadata": {},
   "source": [
    "### Explanation\n",
    "This cell demonstrates the implementation. Take a moment to check out the code and run the cell to see how it works."
   ]
  },
  {
   "cell_type": "code",
   "execution_count": 20,
   "metadata": {},
   "outputs": [],
   "source": [
    "def pop(self):\n",
    "    if self.isEmpty():\n",
    "        print(\"Stack is empty\")\n",
    "        return None\n",
    "\n",
    "    item = self.stack[self.top]\n",
    "    self.top -= 1\n",
    "    return item"
   ]
  },
  {
   "cell_type": "code",
   "execution_count": 25,
   "metadata": {},
   "outputs": [
    {
     "name": "stdout",
     "output_type": "stream",
     "text": [
      "20\n",
      "10\n"
     ]
    }
   ],
   "source": [
    "# Sample Execution\n",
    "\n",
    "print(array_stack.pop())  # Output: 20 popped from stack\n",
    "print(array_stack.pop())  # Output: 10 popped from stack\n"
   ]
  },
  {
   "cell_type": "markdown",
   "metadata": {},
   "source": [
    "### Try It Yourself!\n",
    "Modify the implementation below or try writing your own version based on what you've learned above."
   ]
  },
  {
   "cell_type": "code",
   "execution_count": 39,
   "metadata": {},
   "outputs": [
    {
     "name": "stdout",
     "output_type": "stream",
     "text": [
      "10 pushed to stack\n",
      "20 pushed to stack\n",
      "20 popped from stack\n",
      "10 popped from stack\n"
     ]
    }
   ],
   "source": [
    "class ArrayStack():\n",
    "     def __init__(self, capacity):\n",
    "         self.capacity = capacity\n",
    "         self.stack = [None] * capacity\n",
    "         self.top = -1\n",
    "\n",
    "     def push(self, item):\n",
    "         if self.isFull():\n",
    "              print(\"Stack is full\")\n",
    "              return\n",
    "         self.top += 1\n",
    "         self.stack[self.top] = item\n",
    "         print(f\"{item} pushed to stack\")\n",
    "     \n",
    "     def isFull(self):\n",
    "         return self.top == self.capacity - 1\n",
    "     \n",
    "     def isEmpty(self):\n",
    "         return self.top == -1\n",
    "     \n",
    "     def pop(self):\n",
    "         if self.isEmpty():\n",
    "             print(\"Stack is empty\")\n",
    "             return None\n",
    "         item = self.stack[self.top]\n",
    "         self.top -= 1\n",
    "         return item\n",
    "     def peek(self):\n",
    "        if self.isEmpty():\n",
    "          return None\n",
    "        return self.stack[self.top]\n",
    "\n",
    "# Example usage:\n",
    "array_stack = ArrayStack(10)\n",
    "array_stack.push(10)  # Output: 10 pushed to stack\n",
    "array_stack.push(20)  # Output: 20 pushed to stack\n",
    "\n",
    "popped_item = array_stack.pop()  # Pop the top item\n",
    "print(f\"{popped_item} popped from stack\")  # Output: 20 popped from stack\n",
    "\n",
    "popped_item = array_stack.pop()  # Pop the next item\n",
    "print(f\"{popped_item} popped from stack\")  # Output: 10 popped from stack\n",
    "   \n"
   ]
  },
  {
   "cell_type": "markdown",
   "metadata": {},
   "source": [
    "\n",
    "### Operation 3: peek()\n",
    "This operation retrieves the element at the top of the stack without removing it.\n",
    "\n",
    "To perform this operation:\n",
    "\n",
    "1. If empty, return None or an appropriate message.\n",
    "2. Otherwise, return the value at the top pointer.\n"
   ]
  },
  {
   "cell_type": "markdown",
   "metadata": {},
   "source": [
    "### Explanation\n",
    "This cell demonstrates the implementation. Take a moment to check out the code and run the cell to see how it works."
   ]
  },
  {
   "cell_type": "code",
   "execution_count": 29,
   "metadata": {},
   "outputs": [],
   "source": [
    "def peek(self):\n",
    "    if self.isEmpty():\n",
    "        return None\n",
    "    return self.stack[self.top]"
   ]
  },
  {
   "cell_type": "code",
   "execution_count": 28,
   "metadata": {},
   "outputs": [
    {
     "name": "stdout",
     "output_type": "stream",
     "text": [
      "30 pushed to stack\n",
      "30\n"
     ]
    }
   ],
   "source": [
    "# Sample Execution\n",
    "\n",
    "array_stack.push(30)  # Output: 30 pushed to stack\n",
    "print(array_stack.peek())  # Output: 30"
   ]
  },
  {
   "cell_type": "markdown",
   "metadata": {},
   "source": [
    "### Try It Yourself!\n",
    "Modify the implementation below or try writing your own version based on what you've learned above."
   ]
  },
  {
   "cell_type": "code",
   "execution_count": 38,
   "metadata": {},
   "outputs": [
    {
     "name": "stdout",
     "output_type": "stream",
     "text": [
      "30 pushed to stack\n",
      "30\n"
     ]
    }
   ],
   "source": [
    "class ArrayStack():\n",
    "     def __init__(self, capacity):\n",
    "         self.capacity = capacity\n",
    "         self.stack = [None] * capacity\n",
    "         self.top = -1\n",
    "\n",
    "     def push(self, item):\n",
    "         if self.isFull():\n",
    "              print(\"Stack is full\")\n",
    "              return\n",
    "         self.top += 1\n",
    "         self.stack[self.top] = item\n",
    "         print(f\"{item} pushed to stack\")\n",
    "     \n",
    "     def isFull(self):\n",
    "         return self.top == self.capacity - 1\n",
    "     \n",
    "     def isEmpty(self):\n",
    "         return self.top == -1\n",
    "     def peek(self):\n",
    "        if self.isEmpty():\n",
    "          return None\n",
    "        return self.stack[self.top]\n",
    "     \n",
    "# Sample Execution\n",
    "array_stack = ArrayStack(10)\n",
    "array_stack.push(30)  # Output: 30 pushed to stack\n",
    "print(array_stack.peek())  # Output: 30\n",
    "  "
   ]
  },
  {
   "cell_type": "markdown",
   "metadata": {},
   "source": [
    "\n",
    "### Operation 4: isEmpty()\n",
    "This operation checks whether the stack is empty and returns a boolean value.\n",
    "\n",
    "To perform this check:\n",
    "\n",
    "1. Verify if `top` equals -1; if so, return true (indicating that the stack is empty).\n",
    "2. Otherwise, return false (indicating that there are elements in the stack).\n"
   ]
  },
  {
   "cell_type": "markdown",
   "metadata": {},
   "source": [
    "### Explanation\n",
    "This cell demonstrates the implementation. Take a moment to check out the code and run the cell to see how it works."
   ]
  },
  {
   "cell_type": "code",
   "execution_count": 31,
   "metadata": {},
   "outputs": [],
   "source": [
    "def isEmpty(self):\n",
    "    return self.top == -1"
   ]
  },
  {
   "cell_type": "code",
   "execution_count": 32,
   "metadata": {},
   "outputs": [
    {
     "name": "stdout",
     "output_type": "stream",
     "text": [
      "False\n"
     ]
    }
   ],
   "source": [
    "# Sample Execution\n",
    "\n",
    "print(array_stack.isEmpty())  # Output: False (since there are elements in the stack)"
   ]
  },
  {
   "cell_type": "markdown",
   "metadata": {},
   "source": [
    "### Try It Yourself!\n",
    "Modify the implementation below or try writing your own version based on what you've learned above."
   ]
  },
  {
   "cell_type": "code",
   "execution_count": 37,
   "metadata": {},
   "outputs": [
    {
     "name": "stdout",
     "output_type": "stream",
     "text": [
      "50 pushed to stack\n",
      "False\n"
     ]
    }
   ],
   "source": [
    "class ArrayStack():\n",
    "     def __init__(self, capacity):\n",
    "         self.capacity = capacity\n",
    "         self.stack = [None] * capacity\n",
    "         self.top = -1\n",
    "\n",
    "     def push(self, item):\n",
    "         if self.isFull():\n",
    "              print(\"Stack is full\")\n",
    "              return\n",
    "         self.top += 1\n",
    "         self.stack[self.top] = item\n",
    "         print(f\"{item} pushed to stack\")\n",
    "     \n",
    "     def isFull(self):\n",
    "         return self.top == self.capacity - 1\n",
    "     \n",
    "     def isEmpty(self):\n",
    "         return self.top == -1\n",
    "\n",
    "# Sample Execution\n",
    "array_stack = ArrayStack(10)\n",
    "array_stack.push(50)  # Output: 30 pushed to stack\n",
    "print(array_stack.isEmpty())  # Output: False (since there are elements in the stack)"
   ]
  },
  {
   "cell_type": "markdown",
   "metadata": {},
   "source": [
    "\n",
    "### Operation 5: isFull()\n",
    "This operation checks whether the stack has reached its maximum capacity and returns a boolean value.\n",
    "\n",
    "To perform this check:\n",
    "\n",
    "1. Determine if `top` equals `capacity - 1`; if so, return true (indicating that the stack is full).\n",
    "2. Otherwise, return false (indicating that there is still space available).\n"
   ]
  },
  {
   "cell_type": "markdown",
   "metadata": {},
   "source": [
    "### Explanation\n",
    "This cell demonstrates the implementation. Take a moment to check out the code and run the cell to see how it works."
   ]
  },
  {
   "cell_type": "code",
   "execution_count": 34,
   "metadata": {},
   "outputs": [],
   "source": [
    "def isFull(self):\n",
    "    return self.top == (self.capacity - 1)"
   ]
  },
  {
   "cell_type": "code",
   "execution_count": 35,
   "metadata": {},
   "outputs": [
    {
     "name": "stdout",
     "output_type": "stream",
     "text": [
      "False\n"
     ]
    }
   ],
   "source": [
    "# Sample Execution\n",
    "\n",
    "print(array_stack.isFull())  # Output: False (if capacity has not been reached)"
   ]
  },
  {
   "cell_type": "markdown",
   "metadata": {},
   "source": [
    "### Try It Yourself!\n",
    "Modify the implementation below or try writing your own version based on what you've learned above."
   ]
  },
  {
   "cell_type": "code",
   "execution_count": 36,
   "metadata": {},
   "outputs": [
    {
     "name": "stdout",
     "output_type": "stream",
     "text": [
      "100 pushed to stack\n",
      "False\n"
     ]
    }
   ],
   "source": [
    "class ArrayStack():\n",
    "     def __init__(self, capacity):\n",
    "         self.capacity = capacity\n",
    "         self.stack = [None] * capacity\n",
    "         self.top = -1\n",
    "\n",
    "     def push(self, item):\n",
    "         if self.isFull():\n",
    "              print(\"Stack is full\")\n",
    "              return\n",
    "         self.top += 1\n",
    "         self.stack[self.top] = item\n",
    "         print(f\"{item} pushed to stack\")\n",
    "     \n",
    "     def isFull(self):\n",
    "         return self.top == self.capacity - 1\n",
    "     \n",
    "     def isEmpty(self):\n",
    "         return self.top == -1\n",
    "\n",
    "# Sample Execution\n",
    "array_stack = ArrayStack(10)\n",
    "array_stack.push(100)  # Output: 30 pushed to stack\n",
    "print(array_stack.isFull())  # Output: False (if capacity has not been reached)"
   ]
  },
  {
   "cell_type": "code",
   "execution_count": 41,
   "metadata": {},
   "outputs": [
    {
     "name": "stdout",
     "output_type": "stream",
     "text": [
      "200 pushed to stack\n",
      "300 pushed to stack\n",
      "400 pushed to stack\n",
      "500 pushed to stack\n",
      "600 pushed to stack\n",
      "Stack is full\n",
      "True\n"
     ]
    }
   ],
   "source": [
    "array_stack.push(200)\n",
    "array_stack.push(300)\n",
    "array_stack.push(400)\n",
    "array_stack.push(500)\n",
    "array_stack.push(600)\n",
    "array_stack.push(600)\n",
    "print(array_stack.isFull())  # Output: True (if capacity has been reached)"
   ]
  },
  {
   "cell_type": "markdown",
   "metadata": {},
   "source": [
    "\n",
    "## Exercise Completion\n"
   ]
  },
  {
   "cell_type": "markdown",
   "metadata": {},
   "source": [
    "\n",
    "Once you have completed all sections:\n",
    "\n",
    "- Review your implementations.\n",
    "- Ensure your code is well-documented with comments explaining your logic.\n",
    "- Save your notebook for submission or further review.\n"
   ]
  },
  {
   "cell_type": "markdown",
   "metadata": {},
   "source": [
    "\n",
    "Happy coding! Enjoy practicing Stack implementations in Python!"
   ]
  }
 ],
 "metadata": {
  "kernelspec": {
   "display_name": "base",
   "language": "python",
   "name": "python3"
  },
  "language_info": {
   "codemirror_mode": {
    "name": "ipython",
    "version": 3
   },
   "file_extension": ".py",
   "mimetype": "text/x-python",
   "name": "python",
   "nbconvert_exporter": "python",
   "pygments_lexer": "ipython3",
   "version": "3.12.7"
  }
 },
 "nbformat": 4,
 "nbformat_minor": 2
}
